{
 "cells": [
  {
   "cell_type": "code",
   "execution_count": 1,
   "id": "6a7f9bc7",
   "metadata": {},
   "outputs": [],
   "source": [
    "import pandas as pd\n",
    "import os\n",
    "import numpy as np\n",
    "import csv"
   ]
  },
  {
   "cell_type": "markdown",
   "id": "39fd511d",
   "metadata": {},
   "source": [
    "# \"제거 + 하나로 합침"
   ]
  },
  {
   "cell_type": "code",
   "execution_count": null,
   "id": "019a12ee",
   "metadata": {},
   "outputs": [],
   "source": [
    "data_list = []\n",
    "hap = 0\n",
    "for filename in os.listdir('E:/폴더이름'):\n",
    "    if filename.endswith(\".txt\"):\n",
    "        df = pd.read_csv(f'E:/폴더이름/{filename}',encoding='utf-8',sep='|')\n",
    "        count = len(df)\n",
    "        hap += count\n",
    "        print(len(df))\n",
    "        df1 = pd.DataFrame()\n",
    "        for i in df.columns:\n",
    "            j=i\n",
    "            if i=='점 가맹점블록코드':\n",
    "                j='점 가맹점 블록코드'\n",
    "            df1[j] = df[i].str.replace(\"''\",'')\n",
    "        data_list_list.append(df1)\n",
    "        concat_df = pd.concat(data_list, ignore_index=True)\n",
    "concat_df.head()"
   ]
  },
  {
   "cell_type": "markdown",
   "id": "f6c1829f",
   "metadata": {},
   "source": [
    "# 업종코드 병합"
   ]
  },
  {
   "cell_type": "code",
   "execution_count": null,
   "id": "78a559c2",
   "metadata": {},
   "outputs": [],
   "source": [
    "upjong = pd.read_csv('E/:TB_SHCARD~0',encoding='utf-8-sig',sep='|')\n",
    "upjong.head()"
   ]
  },
  {
   "cell_type": "code",
   "execution_count": null,
   "id": "0987a61e",
   "metadata": {},
   "outputs": [],
   "source": [
    "for i in upjong.columns:\n",
    "    j=i\n",
    "    if i=='점 가맹점블록코드':\n",
    "                j='점 가맹점 블록코드'\n",
    "            upjong[j] = upjong[i].str.replace(\"''\",'')"
   ]
  },
  {
   "cell_type": "code",
   "execution_count": null,
   "id": "4b4f2d7f",
   "metadata": {},
   "outputs": [],
   "source": [
    "upjong['SF_UPJONG_CD'] = upjong['SF_UPJONG_CD'].str.upper()\n",
    "upjong.head()"
   ]
  },
  {
   "cell_type": "code",
   "execution_count": null,
   "id": "684d6ff7",
   "metadata": {},
   "outputs": [],
   "source": [
    "merge_df = pd.merge(concat_df, upjong, how='inner', left_on='업종코드',right_on='SF_UPJON_CD')\n",
    "merge_df.head()"
   ]
  },
  {
   "cell_type": "code",
   "execution_count": null,
   "id": "9ab492ab",
   "metadata": {},
   "outputs": [],
   "source": [
    "merge_df = merge_df.drop(columns=['SF_L_UPJONG_CD','SF_M_UPJONG_CD','SF_UPJONG_CD'])\n",
    "merge_df.head()"
   ]
  },
  {
   "cell_type": "markdown",
   "id": "993ed241",
   "metadata": {},
   "source": [
    "# 블록코드 병합"
   ]
  },
  {
   "cell_type": "code",
   "execution_count": null,
   "id": "335e1549",
   "metadata": {},
   "outputs": [],
   "source": [
    "shp=pd.read_excel('E:/shp(v3)/TBGIS_BLCK_RELM_INFO.xlsx')\n",
    "shp.head()"
   ]
  },
  {
   "cell_type": "code",
   "execution_count": null,
   "id": "f857dfef",
   "metadata": {},
   "outputs": [],
   "source": [
    "a = pd.read_csv('E:/TBBLOCK_TYPE_V3.txt',encoding='utf-8-sig',sep='|')\n",
    "a.head()"
   ]
  },
  {
   "cell_type": "code",
   "execution_count": null,
   "id": "d4160619",
   "metadata": {},
   "outputs": [],
   "source": [
    "a = a.drop(columns=['블록유형소분류','배후지유형소분류'])\n",
    "shpa = pd.merge(shp,a,how='inner',left_on='BLCK_CD',right_on='블록코드')"
   ]
  },
  {
   "cell_type": "code",
   "execution_count": null,
   "id": "02d8f8ca",
   "metadata": {},
   "outputs": [],
   "source": [
    "merge_df['가맹점블록코드'] = merge_df['가맹점블록코드'].astype('int64')\n",
    "merge_shp_df = pd.merge(merge_df,shpa,how='inner',left_on='가맹점블록코드',right_on='BLCK_CD')\n",
    "merge_shp_df.columns"
   ]
  },
  {
   "cell_type": "code",
   "execution_count": null,
   "id": "8dee2279",
   "metadata": {},
   "outputs": [],
   "source": [
    "merge_shp_df.to_csv('E/preprocessing_data.csv')"
   ]
  },
  {
   "cell_type": "code",
   "execution_count": null,
   "id": "95bf6c1b",
   "metadata": {},
   "outputs": [],
   "source": [
    "merge_shp_df['일별']=pd.to_datatime(merge_shp_df['일별'],format='%Y%m%d')\n",
    "merge_shp_df['요일']=merge_shp_df['일별'].dt.day_name()\n",
    "merge_shp_df.head()"
   ]
  },
  {
   "cell_type": "code",
   "execution_count": null,
   "id": "b564a593",
   "metadata": {},
   "outputs": [],
   "source": [
    "merge_shp_df = merge_shp_df.drop(columns=['가맹점블록코드','업종코드','BLCK_CD'])"
   ]
  },
  {
   "cell_type": "markdown",
   "id": "aad5e029",
   "metadata": {},
   "source": [
    "# 구,동 변환"
   ]
  },
  {
   "cell_type": "code",
   "execution_count": null,
   "id": "eff9db29",
   "metadata": {},
   "outputs": [],
   "source": [
    "daedosi = pd.read_excel('E:/행정동및대도시권_코드_2017.xlsx')\n",
    "daedosi.head()"
   ]
  },
  {
   "cell_type": "code",
   "execution_count": null,
   "id": "6d69d431",
   "metadata": {},
   "outputs": [],
   "source": [
    "daedosi = dasdosi.drop(0)\n",
    "daedosi['행자부행정동코드'] = daedosi['행자부행정동코드'].unique().astype('int64')"
   ]
  },
  {
   "cell_type": "code",
   "execution_count": null,
   "id": "0885b167",
   "metadata": {},
   "outputs": [],
   "source": [
    "merge_shp_dong_df = pd.merge(merge_shp_df, daedosi, how='inner',left_on='ADSTRD_CD',right_on='행자부행정동코드')\n",
    "merge_shp_dong_df = merge_shp_dong_df.drop(columns=['통계청행정동코드','행자부행정동코드','시도명','ADSTRD_CD','SIGNGU_CD'])\n",
    "merge_shp_dong_df.columns"
   ]
  },
  {
   "cell_type": "markdown",
   "id": "0ddcc633",
   "metadata": {},
   "source": [
    "# 상권코드-행정동코드"
   ]
  },
  {
   "cell_type": "code",
   "execution_count": 51,
   "id": "c125c417",
   "metadata": {},
   "outputs": [],
   "source": [
    "df = pd.read_csv('서울시 상권분석서비스(상권영역).csv',encoding='cp949')\n",
    "df = df[df['상권_구분_코드_명']=='골목상권']"
   ]
  },
  {
   "cell_type": "code",
   "execution_count": 52,
   "id": "2560fd3d",
   "metadata": {},
   "outputs": [
    {
     "data": {
      "text/plain": [
       "1090"
      ]
     },
     "execution_count": 52,
     "metadata": {},
     "output_type": "execute_result"
    }
   ],
   "source": [
    "len(df['상권_코드'].unique())"
   ]
  },
  {
   "cell_type": "code",
   "execution_count": 53,
   "id": "264ad777",
   "metadata": {},
   "outputs": [
    {
     "data": {
      "text/plain": [
       "378"
      ]
     },
     "execution_count": 53,
     "metadata": {},
     "output_type": "execute_result"
    }
   ],
   "source": [
    "len(df['행정동_코드'].unique())"
   ]
  },
  {
   "cell_type": "code",
   "execution_count": 55,
   "id": "fde23320",
   "metadata": {},
   "outputs": [
    {
     "data": {
      "text/html": [
       "<div>\n",
       "<style scoped>\n",
       "    .dataframe tbody tr th:only-of-type {\n",
       "        vertical-align: middle;\n",
       "    }\n",
       "\n",
       "    .dataframe tbody tr th {\n",
       "        vertical-align: top;\n",
       "    }\n",
       "\n",
       "    .dataframe thead th {\n",
       "        text-align: right;\n",
       "    }\n",
       "</style>\n",
       "<table border=\"1\" class=\"dataframe\">\n",
       "  <thead>\n",
       "    <tr style=\"text-align: right;\">\n",
       "      <th></th>\n",
       "      <th>ADSTRD_CD_x</th>\n",
       "      <th>ADSTRD_NM</th>\n",
       "      <th>ADSTRD_CD_y</th>\n",
       "    </tr>\n",
       "  </thead>\n",
       "  <tbody>\n",
       "    <tr>\n",
       "      <th>0</th>\n",
       "      <td>1101053</td>\n",
       "      <td>사직동</td>\n",
       "      <td>11110530</td>\n",
       "    </tr>\n",
       "    <tr>\n",
       "      <th>1</th>\n",
       "      <td>1101054</td>\n",
       "      <td>삼청동</td>\n",
       "      <td>11110540</td>\n",
       "    </tr>\n",
       "    <tr>\n",
       "      <th>2</th>\n",
       "      <td>1101055</td>\n",
       "      <td>부암동</td>\n",
       "      <td>11110550</td>\n",
       "    </tr>\n",
       "    <tr>\n",
       "      <th>3</th>\n",
       "      <td>1101056</td>\n",
       "      <td>평창동</td>\n",
       "      <td>11110560</td>\n",
       "    </tr>\n",
       "    <tr>\n",
       "      <th>4</th>\n",
       "      <td>1101057</td>\n",
       "      <td>무악동</td>\n",
       "      <td>11110570</td>\n",
       "    </tr>\n",
       "    <tr>\n",
       "      <th>...</th>\n",
       "      <td>...</td>\n",
       "      <td>...</td>\n",
       "      <td>...</td>\n",
       "    </tr>\n",
       "    <tr>\n",
       "      <th>416</th>\n",
       "      <td>1125070</td>\n",
       "      <td>둔촌1동</td>\n",
       "      <td>11740690</td>\n",
       "    </tr>\n",
       "    <tr>\n",
       "      <th>417</th>\n",
       "      <td>1125071</td>\n",
       "      <td>둔촌2동</td>\n",
       "      <td>11740700</td>\n",
       "    </tr>\n",
       "    <tr>\n",
       "      <th>418</th>\n",
       "      <td>1125072</td>\n",
       "      <td>암사1동</td>\n",
       "      <td>11740570</td>\n",
       "    </tr>\n",
       "    <tr>\n",
       "      <th>419</th>\n",
       "      <td>1125073</td>\n",
       "      <td>천호2동</td>\n",
       "      <td>11740610</td>\n",
       "    </tr>\n",
       "    <tr>\n",
       "      <th>420</th>\n",
       "      <td>1125074</td>\n",
       "      <td>길동</td>\n",
       "      <td>11740685</td>\n",
       "    </tr>\n",
       "  </tbody>\n",
       "</table>\n",
       "<p>421 rows × 3 columns</p>\n",
       "</div>"
      ],
      "text/plain": [
       "     ADSTRD_CD_x ADSTRD_NM  ADSTRD_CD_y\n",
       "0        1101053       사직동     11110530\n",
       "1        1101054       삼청동     11110540\n",
       "2        1101055       부암동     11110550\n",
       "3        1101056       평창동     11110560\n",
       "4        1101057       무악동     11110570\n",
       "..           ...       ...          ...\n",
       "416      1125070      둔촌1동     11740690\n",
       "417      1125071      둔촌2동     11740700\n",
       "418      1125072      암사1동     11740570\n",
       "419      1125073      천호2동     11740610\n",
       "420      1125074        길동     11740685\n",
       "\n",
       "[421 rows x 3 columns]"
      ]
     },
     "execution_count": 55,
     "metadata": {},
     "output_type": "execute_result"
    }
   ],
   "source": [
    "dong = pd.read_csv('데청캠자료/데이터/신사동분리버전행정동코드.csv')\n",
    "dong"
   ]
  },
  {
   "cell_type": "code",
   "execution_count": 56,
   "id": "31dd9b50",
   "metadata": {},
   "outputs": [],
   "source": [
    "a = set(df[df['상권_구분_코드_명']=='골목상권']['행정동_코드'].unique())\n",
    "b = set(dong['ADSTRD_CD_y'].unique())\n",
    "\n",
    "only_df_dongs = list(b-a)\n",
    "only_df_df = list(a-b)\n",
    "\n",
    "# 주어진 행정동명을 포함하지 않은 행 추출\n",
    "dong = dong[~dong[\"ADSTRD_CD_y\"].isin(only_df_dongs)]\n",
    "df = df[~df['행정동_코드'].isin(only_df_df)]"
   ]
  },
  {
   "cell_type": "code",
   "execution_count": 57,
   "id": "b56c3a6a",
   "metadata": {},
   "outputs": [
    {
     "data": {
      "text/plain": [
       "376"
      ]
     },
     "execution_count": 57,
     "metadata": {},
     "output_type": "execute_result"
    }
   ],
   "source": [
    "len(dong['ADSTRD_CD_y'].unique())"
   ]
  },
  {
   "cell_type": "code",
   "execution_count": 61,
   "id": "3af44615",
   "metadata": {},
   "outputs": [],
   "source": [
    "df['상권_코드']=df['상권_코드']-1000000"
   ]
  },
  {
   "cell_type": "code",
   "execution_count": 63,
   "id": "c22ae453",
   "metadata": {},
   "outputs": [
    {
     "data": {
      "text/html": [
       "<div>\n",
       "<style scoped>\n",
       "    .dataframe tbody tr th:only-of-type {\n",
       "        vertical-align: middle;\n",
       "    }\n",
       "\n",
       "    .dataframe tbody tr th {\n",
       "        vertical-align: top;\n",
       "    }\n",
       "\n",
       "    .dataframe thead th {\n",
       "        text-align: right;\n",
       "    }\n",
       "</style>\n",
       "<table border=\"1\" class=\"dataframe\">\n",
       "  <thead>\n",
       "    <tr style=\"text-align: right;\">\n",
       "      <th></th>\n",
       "      <th>기준_년월_코드</th>\n",
       "      <th>상권_구분_코드</th>\n",
       "      <th>상권_구분_코드_명</th>\n",
       "      <th>상권_코드</th>\n",
       "      <th>상권_코드_명</th>\n",
       "      <th>엑스좌표_값</th>\n",
       "      <th>와이좌표_값</th>\n",
       "      <th>시군구_코드</th>\n",
       "      <th>행정동_코드</th>\n",
       "      <th>형태정보</th>\n",
       "    </tr>\n",
       "  </thead>\n",
       "  <tbody>\n",
       "    <tr>\n",
       "      <th>0</th>\n",
       "      <td>202212</td>\n",
       "      <td>A</td>\n",
       "      <td>골목상권</td>\n",
       "      <td>2110008</td>\n",
       "      <td>배화여자대학교(박노수미술관)</td>\n",
       "      <td>197093</td>\n",
       "      <td>453418</td>\n",
       "      <td>11110</td>\n",
       "      <td>11110515</td>\n",
       "      <td>NaN</td>\n",
       "    </tr>\n",
       "    <tr>\n",
       "      <th>1</th>\n",
       "      <td>202212</td>\n",
       "      <td>A</td>\n",
       "      <td>골목상권</td>\n",
       "      <td>2110009</td>\n",
       "      <td>자하문터널</td>\n",
       "      <td>196991</td>\n",
       "      <td>455057</td>\n",
       "      <td>11110</td>\n",
       "      <td>11110550</td>\n",
       "      <td>NaN</td>\n",
       "    </tr>\n",
       "    <tr>\n",
       "      <th>2</th>\n",
       "      <td>202212</td>\n",
       "      <td>A</td>\n",
       "      <td>골목상권</td>\n",
       "      <td>2110010</td>\n",
       "      <td>평창동서측</td>\n",
       "      <td>197064</td>\n",
       "      <td>456643</td>\n",
       "      <td>11110</td>\n",
       "      <td>11110560</td>\n",
       "      <td>NaN</td>\n",
       "    </tr>\n",
       "    <tr>\n",
       "      <th>3</th>\n",
       "      <td>202212</td>\n",
       "      <td>A</td>\n",
       "      <td>골목상권</td>\n",
       "      <td>2110017</td>\n",
       "      <td>정독도서관</td>\n",
       "      <td>198581</td>\n",
       "      <td>453781</td>\n",
       "      <td>11110</td>\n",
       "      <td>11110600</td>\n",
       "      <td>NaN</td>\n",
       "    </tr>\n",
       "    <tr>\n",
       "      <th>4</th>\n",
       "      <td>202212</td>\n",
       "      <td>A</td>\n",
       "      <td>골목상권</td>\n",
       "      <td>2110018</td>\n",
       "      <td>중앙고등학교</td>\n",
       "      <td>198883</td>\n",
       "      <td>453690</td>\n",
       "      <td>11110</td>\n",
       "      <td>11110600</td>\n",
       "      <td>NaN</td>\n",
       "    </tr>\n",
       "    <tr>\n",
       "      <th>...</th>\n",
       "      <td>...</td>\n",
       "      <td>...</td>\n",
       "      <td>...</td>\n",
       "      <td>...</td>\n",
       "      <td>...</td>\n",
       "      <td>...</td>\n",
       "      <td>...</td>\n",
       "      <td>...</td>\n",
       "      <td>...</td>\n",
       "      <td>...</td>\n",
       "    </tr>\n",
       "    <tr>\n",
       "      <th>1085</th>\n",
       "      <td>202212</td>\n",
       "      <td>A</td>\n",
       "      <td>골목상권</td>\n",
       "      <td>2110892</td>\n",
       "      <td>관악구 중앙길</td>\n",
       "      <td>195677</td>\n",
       "      <td>442761</td>\n",
       "      <td>11620</td>\n",
       "      <td>11620615</td>\n",
       "      <td>NaN</td>\n",
       "    </tr>\n",
       "    <tr>\n",
       "      <th>1086</th>\n",
       "      <td>202212</td>\n",
       "      <td>A</td>\n",
       "      <td>골목상권</td>\n",
       "      <td>2110893</td>\n",
       "      <td>관악소방서(문영여고)</td>\n",
       "      <td>195802</td>\n",
       "      <td>441665</td>\n",
       "      <td>11620</td>\n",
       "      <td>11620595</td>\n",
       "      <td>NaN</td>\n",
       "    </tr>\n",
       "    <tr>\n",
       "      <th>1087</th>\n",
       "      <td>202212</td>\n",
       "      <td>A</td>\n",
       "      <td>골목상권</td>\n",
       "      <td>2110894</td>\n",
       "      <td>관악동부센트레빌아파트(은천로35라길)</td>\n",
       "      <td>195881</td>\n",
       "      <td>443185</td>\n",
       "      <td>11620</td>\n",
       "      <td>11620565</td>\n",
       "      <td>NaN</td>\n",
       "    </tr>\n",
       "    <tr>\n",
       "      <th>1088</th>\n",
       "      <td>202212</td>\n",
       "      <td>A</td>\n",
       "      <td>골목상권</td>\n",
       "      <td>2110966</td>\n",
       "      <td>논현2동주민센터</td>\n",
       "      <td>203386</td>\n",
       "      <td>446575</td>\n",
       "      <td>11680</td>\n",
       "      <td>11680531</td>\n",
       "      <td>NaN</td>\n",
       "    </tr>\n",
       "    <tr>\n",
       "      <th>1089</th>\n",
       "      <td>202212</td>\n",
       "      <td>A</td>\n",
       "      <td>골목상권</td>\n",
       "      <td>2110967</td>\n",
       "      <td>역삼역 8번</td>\n",
       "      <td>203374</td>\n",
       "      <td>445011</td>\n",
       "      <td>11680</td>\n",
       "      <td>11680640</td>\n",
       "      <td>NaN</td>\n",
       "    </tr>\n",
       "  </tbody>\n",
       "</table>\n",
       "<p>1088 rows × 10 columns</p>\n",
       "</div>"
      ],
      "text/plain": [
       "      기준_년월_코드 상권_구분_코드 상권_구분_코드_명    상권_코드               상권_코드_명  엑스좌표_값  \\\n",
       "0       202212        A       골목상권  2110008       배화여자대학교(박노수미술관)  197093   \n",
       "1       202212        A       골목상권  2110009                 자하문터널  196991   \n",
       "2       202212        A       골목상권  2110010                 평창동서측  197064   \n",
       "3       202212        A       골목상권  2110017                 정독도서관  198581   \n",
       "4       202212        A       골목상권  2110018                중앙고등학교  198883   \n",
       "...        ...      ...        ...      ...                   ...     ...   \n",
       "1085    202212        A       골목상권  2110892               관악구 중앙길  195677   \n",
       "1086    202212        A       골목상권  2110893           관악소방서(문영여고)  195802   \n",
       "1087    202212        A       골목상권  2110894  관악동부센트레빌아파트(은천로35라길)  195881   \n",
       "1088    202212        A       골목상권  2110966              논현2동주민센터  203386   \n",
       "1089    202212        A       골목상권  2110967                역삼역 8번  203374   \n",
       "\n",
       "      와이좌표_값  시군구_코드    행정동_코드  형태정보  \n",
       "0     453418   11110  11110515   NaN  \n",
       "1     455057   11110  11110550   NaN  \n",
       "2     456643   11110  11110560   NaN  \n",
       "3     453781   11110  11110600   NaN  \n",
       "4     453690   11110  11110600   NaN  \n",
       "...      ...     ...       ...   ...  \n",
       "1085  442761   11620  11620615   NaN  \n",
       "1086  441665   11620  11620595   NaN  \n",
       "1087  443185   11620  11620565   NaN  \n",
       "1088  446575   11680  11680531   NaN  \n",
       "1089  445011   11680  11680640   NaN  \n",
       "\n",
       "[1088 rows x 10 columns]"
      ]
     },
     "execution_count": 63,
     "metadata": {},
     "output_type": "execute_result"
    }
   ],
   "source": [
    "df"
   ]
  },
  {
   "cell_type": "code",
   "execution_count": 64,
   "id": "402517a0",
   "metadata": {},
   "outputs": [],
   "source": [
    "df.to_csv('상권코드_행정동코드.csv',index=False)"
   ]
  },
  {
   "cell_type": "code",
   "execution_count": 48,
   "id": "e83b11ff",
   "metadata": {},
   "outputs": [],
   "source": [
    "dong.to_csv('7,8자리행정동코드.csv',index=False)"
   ]
  },
  {
   "cell_type": "code",
   "execution_count": null,
   "id": "a2655cbf",
   "metadata": {},
   "outputs": [],
   "source": []
  }
 ],
 "metadata": {
  "kernelspec": {
   "display_name": "Python 3 (ipykernel)",
   "language": "python",
   "name": "python3"
  },
  "language_info": {
   "codemirror_mode": {
    "name": "ipython",
    "version": 3
   },
   "file_extension": ".py",
   "mimetype": "text/x-python",
   "name": "python",
   "nbconvert_exporter": "python",
   "pygments_lexer": "ipython3",
   "version": "3.11.3"
  }
 },
 "nbformat": 4,
 "nbformat_minor": 5
}
